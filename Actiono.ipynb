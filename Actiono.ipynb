{
  "nbformat": 4,
  "nbformat_minor": 0,
  "metadata": {
    "colab": {
      "provenance": [],
      "authorship_tag": "ABX9TyPl1FpgvE8yEq1WmHwDAMS+",
      "include_colab_link": true
    },
    "kernelspec": {
      "name": "python3",
      "display_name": "Python 3"
    },
    "language_info": {
      "name": "python"
    }
  },
  "cells": [
    {
      "cell_type": "markdown",
      "metadata": {
        "id": "view-in-github",
        "colab_type": "text"
      },
      "source": [
        "<a href=\"https://colab.research.google.com/github/unnashik95/Saint/blob/master/Actiono.ipynb\" target=\"_parent\"><img src=\"https://colab.research.google.com/assets/colab-badge.svg\" alt=\"Open In Colab\"/></a>"
      ]
    },
    {
      "cell_type": "code",
      "source": [
        "from google.colab import files\n",
        "uploded = files.upload()"
      ],
      "metadata": {
        "colab": {
          "base_uri": "https://localhost:8080/",
          "height": 74
        },
        "id": "O9iHnf0fWS0i",
        "outputId": "073a61e6-8311-4595-e9fc-04419f72a35c"
      },
      "execution_count": 3,
      "outputs": [
        {
          "output_type": "display_data",
          "data": {
            "text/plain": [
              "<IPython.core.display.HTML object>"
            ],
            "text/html": [
              "\n",
              "     <input type=\"file\" id=\"files-73296ade-e12d-4c43-aee3-e9af77a37716\" name=\"files[]\" multiple disabled\n",
              "        style=\"border:none\" />\n",
              "     <output id=\"result-73296ade-e12d-4c43-aee3-e9af77a37716\">\n",
              "      Upload widget is only available when the cell has been executed in the\n",
              "      current browser session. Please rerun this cell to enable.\n",
              "      </output>\n",
              "      <script>// Copyright 2017 Google LLC\n",
              "//\n",
              "// Licensed under the Apache License, Version 2.0 (the \"License\");\n",
              "// you may not use this file except in compliance with the License.\n",
              "// You may obtain a copy of the License at\n",
              "//\n",
              "//      http://www.apache.org/licenses/LICENSE-2.0\n",
              "//\n",
              "// Unless required by applicable law or agreed to in writing, software\n",
              "// distributed under the License is distributed on an \"AS IS\" BASIS,\n",
              "// WITHOUT WARRANTIES OR CONDITIONS OF ANY KIND, either express or implied.\n",
              "// See the License for the specific language governing permissions and\n",
              "// limitations under the License.\n",
              "\n",
              "/**\n",
              " * @fileoverview Helpers for google.colab Python module.\n",
              " */\n",
              "(function(scope) {\n",
              "function span(text, styleAttributes = {}) {\n",
              "  const element = document.createElement('span');\n",
              "  element.textContent = text;\n",
              "  for (const key of Object.keys(styleAttributes)) {\n",
              "    element.style[key] = styleAttributes[key];\n",
              "  }\n",
              "  return element;\n",
              "}\n",
              "\n",
              "// Max number of bytes which will be uploaded at a time.\n",
              "const MAX_PAYLOAD_SIZE = 100 * 1024;\n",
              "\n",
              "function _uploadFiles(inputId, outputId) {\n",
              "  const steps = uploadFilesStep(inputId, outputId);\n",
              "  const outputElement = document.getElementById(outputId);\n",
              "  // Cache steps on the outputElement to make it available for the next call\n",
              "  // to uploadFilesContinue from Python.\n",
              "  outputElement.steps = steps;\n",
              "\n",
              "  return _uploadFilesContinue(outputId);\n",
              "}\n",
              "\n",
              "// This is roughly an async generator (not supported in the browser yet),\n",
              "// where there are multiple asynchronous steps and the Python side is going\n",
              "// to poll for completion of each step.\n",
              "// This uses a Promise to block the python side on completion of each step,\n",
              "// then passes the result of the previous step as the input to the next step.\n",
              "function _uploadFilesContinue(outputId) {\n",
              "  const outputElement = document.getElementById(outputId);\n",
              "  const steps = outputElement.steps;\n",
              "\n",
              "  const next = steps.next(outputElement.lastPromiseValue);\n",
              "  return Promise.resolve(next.value.promise).then((value) => {\n",
              "    // Cache the last promise value to make it available to the next\n",
              "    // step of the generator.\n",
              "    outputElement.lastPromiseValue = value;\n",
              "    return next.value.response;\n",
              "  });\n",
              "}\n",
              "\n",
              "/**\n",
              " * Generator function which is called between each async step of the upload\n",
              " * process.\n",
              " * @param {string} inputId Element ID of the input file picker element.\n",
              " * @param {string} outputId Element ID of the output display.\n",
              " * @return {!Iterable<!Object>} Iterable of next steps.\n",
              " */\n",
              "function* uploadFilesStep(inputId, outputId) {\n",
              "  const inputElement = document.getElementById(inputId);\n",
              "  inputElement.disabled = false;\n",
              "\n",
              "  const outputElement = document.getElementById(outputId);\n",
              "  outputElement.innerHTML = '';\n",
              "\n",
              "  const pickedPromise = new Promise((resolve) => {\n",
              "    inputElement.addEventListener('change', (e) => {\n",
              "      resolve(e.target.files);\n",
              "    });\n",
              "  });\n",
              "\n",
              "  const cancel = document.createElement('button');\n",
              "  inputElement.parentElement.appendChild(cancel);\n",
              "  cancel.textContent = 'Cancel upload';\n",
              "  const cancelPromise = new Promise((resolve) => {\n",
              "    cancel.onclick = () => {\n",
              "      resolve(null);\n",
              "    };\n",
              "  });\n",
              "\n",
              "  // Wait for the user to pick the files.\n",
              "  const files = yield {\n",
              "    promise: Promise.race([pickedPromise, cancelPromise]),\n",
              "    response: {\n",
              "      action: 'starting',\n",
              "    }\n",
              "  };\n",
              "\n",
              "  cancel.remove();\n",
              "\n",
              "  // Disable the input element since further picks are not allowed.\n",
              "  inputElement.disabled = true;\n",
              "\n",
              "  if (!files) {\n",
              "    return {\n",
              "      response: {\n",
              "        action: 'complete',\n",
              "      }\n",
              "    };\n",
              "  }\n",
              "\n",
              "  for (const file of files) {\n",
              "    const li = document.createElement('li');\n",
              "    li.append(span(file.name, {fontWeight: 'bold'}));\n",
              "    li.append(span(\n",
              "        `(${file.type || 'n/a'}) - ${file.size} bytes, ` +\n",
              "        `last modified: ${\n",
              "            file.lastModifiedDate ? file.lastModifiedDate.toLocaleDateString() :\n",
              "                                    'n/a'} - `));\n",
              "    const percent = span('0% done');\n",
              "    li.appendChild(percent);\n",
              "\n",
              "    outputElement.appendChild(li);\n",
              "\n",
              "    const fileDataPromise = new Promise((resolve) => {\n",
              "      const reader = new FileReader();\n",
              "      reader.onload = (e) => {\n",
              "        resolve(e.target.result);\n",
              "      };\n",
              "      reader.readAsArrayBuffer(file);\n",
              "    });\n",
              "    // Wait for the data to be ready.\n",
              "    let fileData = yield {\n",
              "      promise: fileDataPromise,\n",
              "      response: {\n",
              "        action: 'continue',\n",
              "      }\n",
              "    };\n",
              "\n",
              "    // Use a chunked sending to avoid message size limits. See b/62115660.\n",
              "    let position = 0;\n",
              "    do {\n",
              "      const length = Math.min(fileData.byteLength - position, MAX_PAYLOAD_SIZE);\n",
              "      const chunk = new Uint8Array(fileData, position, length);\n",
              "      position += length;\n",
              "\n",
              "      const base64 = btoa(String.fromCharCode.apply(null, chunk));\n",
              "      yield {\n",
              "        response: {\n",
              "          action: 'append',\n",
              "          file: file.name,\n",
              "          data: base64,\n",
              "        },\n",
              "      };\n",
              "\n",
              "      let percentDone = fileData.byteLength === 0 ?\n",
              "          100 :\n",
              "          Math.round((position / fileData.byteLength) * 100);\n",
              "      percent.textContent = `${percentDone}% done`;\n",
              "\n",
              "    } while (position < fileData.byteLength);\n",
              "  }\n",
              "\n",
              "  // All done.\n",
              "  yield {\n",
              "    response: {\n",
              "      action: 'complete',\n",
              "    }\n",
              "  };\n",
              "}\n",
              "\n",
              "scope.google = scope.google || {};\n",
              "scope.google.colab = scope.google.colab || {};\n",
              "scope.google.colab._files = {\n",
              "  _uploadFiles,\n",
              "  _uploadFilesContinue,\n",
              "};\n",
              "})(self);\n",
              "</script> "
            ]
          },
          "metadata": {}
        },
        {
          "output_type": "stream",
          "name": "stdout",
          "text": [
            "Saving Action.csv to Action.csv\n"
          ]
        }
      ]
    },
    {
      "cell_type": "code",
      "source": [
        "import pandas as pd\n",
        "df = pd.read_csv(\"Action.csv\")"
      ],
      "metadata": {
        "id": "JZhdFTCDWk8A"
      },
      "execution_count": 4,
      "outputs": []
    },
    {
      "cell_type": "code",
      "source": [
        "df.head"
      ],
      "metadata": {
        "colab": {
          "base_uri": "https://localhost:8080/"
        },
        "id": "ChwkhAmfW94k",
        "outputId": "6c617f07-4185-4eda-a669-efe364e3616b"
      },
      "execution_count": 5,
      "outputs": [
        {
          "output_type": "execute_result",
          "data": {
            "text/plain": [
              "<bound method NDFrame.head of                                               overview\n",
              "0    And then I also   looked at the photo because ...\n",
              "1    I did for the purpose of one seeing stuff   fr...\n",
              "2                     see how we'd look at my house. A\n",
              "3    So I sent them a picture of the type that they...\n",
              "4    ble. So the information I get from the picture...\n",
              "..                                                 ...\n",
              "294  en if they're interested in it. I actually too...\n",
              "295                                           Overview\n",
              "296  friends, w\\n \\n \\n \\n. And Google translate wh...\n",
              "297  ed to read how high up I was convert the meter...\n",
              "298  u know, that it was a barber shop for that, li...\n",
              "\n",
              "[299 rows x 1 columns]>"
            ]
          },
          "metadata": {},
          "execution_count": 5
        }
      ]
    },
    {
      "cell_type": "code",
      "source": [
        "df.info"
      ],
      "metadata": {
        "colab": {
          "base_uri": "https://localhost:8080/"
        },
        "id": "11mwhj2PXB45",
        "outputId": "cf3d1814-ace8-40da-a6f2-510266a827e0"
      },
      "execution_count": 6,
      "outputs": [
        {
          "output_type": "execute_result",
          "data": {
            "text/plain": [
              "<bound method DataFrame.info of                                               overview\n",
              "0    And then I also   looked at the photo because ...\n",
              "1    I did for the purpose of one seeing stuff   fr...\n",
              "2                     see how we'd look at my house. A\n",
              "3    So I sent them a picture of the type that they...\n",
              "4    ble. So the information I get from the picture...\n",
              "..                                                 ...\n",
              "294  en if they're interested in it. I actually too...\n",
              "295                                           Overview\n",
              "296  friends, w\\n \\n \\n \\n. And Google translate wh...\n",
              "297  ed to read how high up I was convert the meter...\n",
              "298  u know, that it was a barber shop for that, li...\n",
              "\n",
              "[299 rows x 1 columns]>"
            ]
          },
          "metadata": {},
          "execution_count": 6
        }
      ]
    },
    {
      "cell_type": "code",
      "source": [
        "from sklearn.feature_extraction.text import TfidfVectorizer\n",
        "from sklearn.cluster import KMeans"
      ],
      "metadata": {
        "id": "HvAi5OhTXGDz"
      },
      "execution_count": 7,
      "outputs": []
    },
    {
      "cell_type": "code",
      "source": [
        "document = df['overview'].values.astype(\"U\")"
      ],
      "metadata": {
        "id": "v9539XQhXnNP"
      },
      "execution_count": 8,
      "outputs": []
    },
    {
      "cell_type": "code",
      "source": [
        "vectorizer = TfidfVectorizer(stop_words='english')\n",
        "features= vectorizer.fit_transform(document)"
      ],
      "metadata": {
        "id": "Jec_Hi1OaLWa"
      },
      "execution_count": 10,
      "outputs": []
    },
    {
      "cell_type": "code",
      "source": [
        "k=20\n",
        "model = KMeans(n_clusters=k, init='k-means++', max_iter=100, n_init=1)\n",
        "model.fit(features)"
      ],
      "metadata": {
        "colab": {
          "base_uri": "https://localhost:8080/"
        },
        "id": "kHgI9bR5apgi",
        "outputId": "a883afd6-77e5-4a68-cc28-5594f01ae420"
      },
      "execution_count": 11,
      "outputs": [
        {
          "output_type": "execute_result",
          "data": {
            "text/plain": [
              "KMeans(max_iter=100, n_clusters=20, n_init=1)"
            ]
          },
          "metadata": {},
          "execution_count": 11
        }
      ]
    },
    {
      "cell_type": "code",
      "source": [
        "df['cluster'] = model.labels_"
      ],
      "metadata": {
        "id": "Y15FPxLFbnCe"
      },
      "execution_count": 12,
      "outputs": []
    },
    {
      "cell_type": "code",
      "source": [
        "df.head"
      ],
      "metadata": {
        "colab": {
          "base_uri": "https://localhost:8080/"
        },
        "id": "3O4vIO2abwpm",
        "outputId": "b37fbab8-5ecb-482e-cb13-c8d514bb6719"
      },
      "execution_count": 13,
      "outputs": [
        {
          "output_type": "execute_result",
          "data": {
            "text/plain": [
              "<bound method NDFrame.head of                                               overview  cluster\n",
              "0    And then I also   looked at the photo because ...        4\n",
              "1    I did for the purpose of one seeing stuff   fr...        3\n",
              "2                     see how we'd look at my house. A        9\n",
              "3    So I sent them a picture of the type that they...       19\n",
              "4    ble. So the information I get from the picture...        3\n",
              "..                                                 ...      ...\n",
              "294  en if they're interested in it. I actually too...       17\n",
              "295                                           Overview        3\n",
              "296  friends, w\\n \\n \\n \\n. And Google translate wh...        9\n",
              "297  ed to read how high up I was convert the meter...       13\n",
              "298  u know, that it was a barber shop for that, li...       15\n",
              "\n",
              "[299 rows x 2 columns]>"
            ]
          },
          "metadata": {},
          "execution_count": 13
        }
      ]
    },
    {
      "cell_type": "code",
      "source": [
        "clusters = df.groupby('cluster')\n",
        "for cluster in clusters.groups:\n",
        "  f = open('cluster'+str(cluster)+'.csv', 'w')\n",
        "  data = clusters.get_group(cluster)['overview']\n",
        "  f.write(data.to_csv(index_label ='overview'))\n",
        "  f.close()"
      ],
      "metadata": {
        "id": "t7jpHKpBcRuG"
      },
      "execution_count": 15,
      "outputs": []
    },
    {
      "cell_type": "code",
      "source": [
        "print(\"Cluster centroids: \\n\")\n",
        "order_centroids = model.cluster_centers_.argsort()[:, ::-1]\n",
        "terms = vectorizer.get_feature_names()\n",
        "\n",
        "for i in range(k):\n",
        "    print(\"Cluster %d:\" % i)\n",
        "    for j in order_centroids[i, :10]: #print out 10 feature terms of each cluster\n",
        "        print (' %s' % terms[j])\n",
        "    print('------------')"
      ],
      "metadata": {
        "colab": {
          "base_uri": "https://localhost:8080/"
        },
        "id": "E2quhWlM4G4j",
        "outputId": "465a1863-e276-40ee-9d2a-3274739a34f5"
      },
      "execution_count": 16,
      "outputs": [
        {
          "output_type": "stream",
          "name": "stdout",
          "text": [
            "Cluster centroids: \n",
            "\n",
            "Cluster 0:\n",
            " album\n",
            " putting\n",
            " picture\n",
            " memory\n",
            " photo\n",
            " family\n",
            " time\n",
            " took\n",
            " facebook\n",
            " sp\n",
            "------------\n",
            "Cluster 1:\n",
            " just\n",
            " needed\n",
            " funny\n",
            " remember\n",
            " picture\n",
            " took\n",
            " laugh\n",
            " thought\n",
            " lot\n",
            " irony\n",
            "------------\n",
            "Cluster 2:\n",
            " photo\n",
            " text\n",
            " send\n",
            " took\n",
            " basically\n",
            " mother\n",
            " friend\n",
            " family\n",
            " says\n",
            " gathered\n",
            "------------\n",
            "Cluster 3:\n",
            " know\n",
            " like\n",
            " actually\n",
            " information\n",
            " overview\n",
            " took\n",
            " stuff\n",
            " did\n",
            " photo\n",
            " picture\n",
            "------------\n",
            "Cluster 4:\n",
            " somebody\n",
            " post\n",
            " th\n",
            " just\n",
            " picture\n",
            " really\n",
            " maybe\n",
            " online\n",
            " photo\n",
            " wanted\n",
            "------------\n",
            "Cluster 5:\n",
            " people\n",
            " send\n",
            " probably\n",
            " share\n",
            " sent\n",
            " know\n",
            " took\n",
            " picture\n",
            " husband\n",
            " like\n",
            "------------\n",
            "Cluster 6:\n",
            " potential\n",
            " reference\n",
            " need\n",
            " steps\n",
            " future\n",
            " just\n",
            " case\n",
            " text\n",
            " photo\n",
            " locate\n",
            "------------\n",
            "Cluster 7:\n",
            " did\n",
            " social\n",
            " media\n",
            " family\n",
            " wanted\n",
            " like\n",
            " photo\n",
            " information\n",
            " post\n",
            " let\n",
            "------------\n",
            "Cluster 8:\n",
            " price\n",
            " different\n",
            " pictures\n",
            " meat\n",
            " taking\n",
            " kitchen\n",
            " types\n",
            " using\n",
            " phone\n",
            " holidays\n",
            "------------\n",
            "Cluster 9:\n",
            " google\n",
            " look\n",
            " able\n",
            " steps\n",
            " potential\n",
            " just\n",
            " photos\n",
            " maps\n",
            " house\n",
            " photo\n",
            "------------\n",
            "Cluster 10:\n",
            " use\n",
            " code\n",
            " explaining\n",
            " myer\n",
            " free\n",
            " glean\n",
            " fragrance\n",
            " versus\n",
            " brand\n",
            " information\n",
            "------------\n",
            "Cluster 11:\n",
            " said\n",
            " fiance\n",
            " like\n",
            " know\n",
            " quotes\n",
            " ride\n",
            " nteresting\n",
            " lot\n",
            " just\n",
            " got\n",
            "------------\n",
            "Cluster 12:\n",
            " wanted\n",
            " gonna\n",
            " daughter\n",
            " mean\n",
            " sent\n",
            " share\n",
            " wear\n",
            " se\n",
            " lotion\n",
            " car\n",
            "------------\n",
            "Cluster 13:\n",
            " number\n",
            " good\n",
            " thought\n",
            " people\n",
            " picture\n",
            " way\n",
            " high\n",
            " expect\n",
            " supposed\n",
            " took\n",
            "------------\n",
            "Cluster 14:\n",
            " like\n",
            " different\n",
            " company\n",
            " options\n",
            " memory\n",
            " picture\n",
            " vents\n",
            " taken\n",
            " reference\n",
            " recently\n",
            "------------\n",
            "Cluster 15:\n",
            " reason\n",
            " thing\n",
            " like\n",
            " little\n",
            " took\n",
            " instagram\n",
            " don\n",
            " actually\n",
            " know\n",
            " post\n",
            "------------\n",
            "Cluster 16:\n",
            " concert\n",
            " michael\n",
            " bolton\n",
            " coming\n",
            " dates\n",
            " december\n",
            " pulled\n",
            " ar\n",
            " mgm\n",
            " cleveland\n",
            "------------\n",
            "Cluster 17:\n",
            " interested\n",
            " product\n",
            " sent\n",
            " purchasing\n",
            " mom\n",
            " actually\n",
            " snapchat\n",
            " took\n",
            " details\n",
            " photo\n",
            "------------\n",
            "Cluster 18:\n",
            " share\n",
            " media\n",
            " social\n",
            " maintain\n",
            " diet\n",
            " friends\n",
            " just\n",
            " kids\n",
            " story\n",
            " pictures\n",
            "------------\n",
            "Cluster 19:\n",
            " type\n",
            " shoe\n",
            " store\n",
            " paper\n",
            " actually\n",
            " used\n",
            " restaurant\n",
            " cture\n",
            " picture\n",
            " versus\n",
            "------------\n"
          ]
        },
        {
          "output_type": "stream",
          "name": "stderr",
          "text": [
            "/usr/local/lib/python3.8/dist-packages/sklearn/utils/deprecation.py:87: FutureWarning: Function get_feature_names is deprecated; get_feature_names is deprecated in 1.0 and will be removed in 1.2. Please use get_feature_names_out instead.\n",
            "  warnings.warn(msg, category=FutureWarning)\n"
          ]
        }
      ]
    }
  ]
}